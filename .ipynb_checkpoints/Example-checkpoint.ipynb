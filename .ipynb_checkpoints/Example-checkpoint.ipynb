{
 "cells": [
  {
   "cell_type": "code",
   "execution_count": 5,
   "id": "804f5584-1e42-44a6-a6ae-0126af8f3c7f",
   "metadata": {},
   "outputs": [],
   "source": [
    "import sys,os\n",
    "sys.path.append(os.getcwd())\n",
    "from SegmentationLiang import generate_pcg_envelope, find_pcg_peaks, get_wav_and_tsv"
   ]
  },
  {
   "cell_type": "markdown",
   "id": "10fdb2eb-d222-4882-be4a-0bc962475ce5",
   "metadata": {},
   "source": [
    "Import some test data"
   ]
  },
  {
   "cell_type": "code",
   "execution_count": 6,
   "id": "cb2d9b95-a716-4eba-b545-386d12b8907b",
   "metadata": {},
   "outputs": [
    {
     "ename": "NameError",
     "evalue": "name 'get_wav_and_tsv' is not defined",
     "output_type": "error",
     "traceback": [
      "\u001b[1;31m---------------------------------------------------------------------------\u001b[0m",
      "\u001b[1;31mNameError\u001b[0m                                 Traceback (most recent call last)",
      "Cell \u001b[1;32mIn[6], line 6\u001b[0m\n\u001b[0;32m      3\u001b[0m files \u001b[38;5;241m=\u001b[39m [\u001b[38;5;124m\"\u001b[39m\u001b[38;5;124m2530_AV\u001b[39m\u001b[38;5;124m\"\u001b[39m]\u001b[38;5;66;03m#, \"2530_MV\", \"2530_PV\", \"2530_TV\"]\u001b[39;00m\n\u001b[0;32m      5\u001b[0m \u001b[38;5;28;01mfor\u001b[39;00m file \u001b[38;5;129;01min\u001b[39;00m files:\n\u001b[1;32m----> 6\u001b[0m     wav, true_seg, fs \u001b[38;5;241m=\u001b[39m \u001b[43mget_wav_and_tsv\u001b[49m(file)\n",
      "\u001b[1;31mNameError\u001b[0m: name 'get_wav_and_tsv' is not defined"
     ]
    }
   ],
   "source": [
    "# 0. get some dummy data to test\n",
    "dataset_dir = 'C:\\\\Users\\\\hssdwo\\\\Documents\\\\Physionet_2022\\\\smoke_data'\n",
    "files = [\"2530_AV\"]#, \"2530_MV\", \"2530_PV\", \"2530_TV\"]\n",
    "\n",
    "for file in files:\n",
    "    wav, true_seg, fs = get_wav_and_tsv(file)"
   ]
  },
  {
   "cell_type": "markdown",
   "id": "559722c9-2be9-4301-b0de-da75c73b7532",
   "metadata": {},
   "source": [
    "convert raw pcg to pcg envelope"
   ]
  },
  {
   "cell_type": "code",
   "execution_count": 26,
   "id": "af16864f-0757-4295-bac5-fc0ef0306649",
   "metadata": {},
   "outputs": [
    {
     "ename": "TypeError",
     "evalue": "generate_pcg_envelope() takes 1 positional argument but 2 were given",
     "output_type": "error",
     "traceback": [
      "\u001b[1;31m---------------------------------------------------------------------------\u001b[0m",
      "\u001b[1;31mTypeError\u001b[0m                                 Traceback (most recent call last)",
      "Cell \u001b[1;32mIn[26], line 3\u001b[0m\n\u001b[0;32m      1\u001b[0m t\u001b[38;5;241m=\u001b[39m \u001b[38;5;241m0.02\u001b[39m\n\u001b[0;32m      2\u001b[0m overlap \u001b[38;5;241m=\u001b[39m \u001b[38;5;241m0.01\u001b[39m\n\u001b[1;32m----> 3\u001b[0m ave_s_env \u001b[38;5;241m=\u001b[39m \u001b[43mgenerate_pcg_envelope\u001b[49m\u001b[43m(\u001b[49m\u001b[43mwav\u001b[49m\u001b[43m,\u001b[49m\u001b[43m \u001b[49m\u001b[43mfs\u001b[49m\u001b[43m)\u001b[49m\n",
      "\u001b[1;31mTypeError\u001b[0m: generate_pcg_envelope() takes 1 positional argument but 2 were given"
     ]
    }
   ],
   "source": [
    "t= 0.02\n",
    "overlap = 0.01\n",
    "ave_s_env = generate_pcg_envelope(wav, fs)"
   ]
  },
  {
   "cell_type": "code",
   "execution_count": null,
   "id": "17a40e78-97b2-4b2c-9c60-f5d29c2dbd73",
   "metadata": {},
   "outputs": [],
   "source": [
    "# 6. find pcg peaks\n",
    "s1_locs, s2_locs, other_locs = find_pcg_peaks(ave_s_env, fs)"
   ]
  }
 ],
 "metadata": {
  "kernelspec": {
   "display_name": "Python 3 (ipykernel)",
   "language": "python",
   "name": "python3"
  },
  "language_info": {
   "codemirror_mode": {
    "name": "ipython",
    "version": 3
   },
   "file_extension": ".py",
   "mimetype": "text/x-python",
   "name": "python",
   "nbconvert_exporter": "python",
   "pygments_lexer": "ipython3",
   "version": "3.10.9"
  }
 },
 "nbformat": 4,
 "nbformat_minor": 5
}
